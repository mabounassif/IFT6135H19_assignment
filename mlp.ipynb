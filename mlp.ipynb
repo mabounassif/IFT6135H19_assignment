{
 "cells": [
  {
   "cell_type": "code",
   "execution_count": 2820,
   "metadata": {},
   "outputs": [],
   "source": [
    "import numpy as np\n",
    "\n",
    "class NN(object):\n",
    "    def __init__(self, size_layers=[784, 16, 16, 10], datapath=None, modelpath=None):\n",
    "        self.data = np.load(datapath)\n",
    "        self.size_layers = size_layers\n",
    "        \n",
    "        # The cache would be used to store forward feed activations and preactivations values \n",
    "        self.cache = {\n",
    "            'activations': [],\n",
    "            'preactivations': []\n",
    "        }\n",
    "        \n",
    "        # Data structure to hold the params of the model\n",
    "        self.theta = {\n",
    "            'b': [],\n",
    "            'w': []\n",
    "        }\n",
    "        \n",
    "        # Data structure to hold the gradients calculated during backprop\n",
    "        self.grads = {\n",
    "            'b': [],\n",
    "            'w': []\n",
    "        }"
   ]
  },
  {
   "cell_type": "code",
   "execution_count": 2821,
   "metadata": {},
   "outputs": [],
   "source": [
    "def initialize_weights(self):\n",
    "    size_next_layers = self.size_layers.copy()\n",
    "    size_next_layers.pop(0)\n",
    "    \n",
    "    for size_layer, size_next_layer in zip(self.size_layers, size_next_layers):\n",
    "        self.theta['w'].append(np.zeros((size_next_layer, size_layer)))\n",
    "        self.theta['b'].append(np.zeros((1, size_next_layer)))\n",
    "        \n",
    "        self.grads['w'].append(np.zeros((size_next_layer, size_layer)))\n",
    "        self.grads['b'].append(np.zeros((1, size_next_layer)))"
   ]
  },
  {
   "cell_type": "code",
   "execution_count": 2822,
   "metadata": {},
   "outputs": [],
   "source": [
    "def forward(self, X):\n",
    "    '''\n",
    "    Forward propagation\n",
    "    params:\n",
    "        X: N by k matrix\n",
    "        where\n",
    "            N: number of samples\n",
    "            k: dimension of sample\n",
    "    returns: output is a N by o matrix where o is the output dimension specified\n",
    "    in mlp initialization\n",
    "    '''\n",
    "    n_layers = len(self.size_layers)\n",
    "    input_layer = X\n",
    "    \n",
    "    # Adding input in activations needed for gradient descent\n",
    "    self.cache['activations'].append(X)\n",
    "    \n",
    "    for layer_idx in range(n_layers - 1):\n",
    "        n_examples = input_layer.shape[0]\n",
    "        \n",
    "        # Multiply the input by the weights\n",
    "        pre_act_layer = np.matmul(input_layer,  self.theta['w'][layer_idx].transpose()) + self.theta['b'][layer_idx]\n",
    "        # Apply activation function\n",
    "        output_layer = activation(self, pre_act_layer)\n",
    "        \n",
    "        self.cache['preactivations'].append(pre_act_layer)\n",
    "        self.cache['activations'].append(output_layer)\n",
    "        \n",
    "        input_layer = output_layer\n",
    "    \n",
    "    return output_layer"
   ]
  },
  {
   "cell_type": "code",
   "execution_count": 2823,
   "metadata": {},
   "outputs": [],
   "source": [
    "def activation(self, input):\n",
    "    '''\n",
    "    Rectified Linear function\n",
    "    z can be an numpy array or scalar\n",
    "    '''\n",
    "    if np.isscalar(input):\n",
    "        result = np.max((input, 0))\n",
    "    else:\n",
    "        zero_aux = np.zeros(input.shape)\n",
    "        meta_z = np.stack((input , zero_aux), axis = -1)\n",
    "        result = np.max(meta_z, axis = -1)\n",
    "    return result"
   ]
  },
  {
   "cell_type": "code",
   "execution_count": 2824,
   "metadata": {},
   "outputs": [],
   "source": [
    "def activation_prime(self, input):\n",
    "    input[input<0] = 0\n",
    "    input[input>=0] = 1\n",
    "\n",
    "    return input"
   ]
  },
  {
   "cell_type": "code",
   "execution_count": 2825,
   "metadata": {},
   "outputs": [],
   "source": [
    "def loss(self, predictions, targets):\n",
    "    '''\n",
    "    Takes a batch of predictions and gets the cross entropy\n",
    "    params:\n",
    "        predictions: N by k matrix\n",
    "        where\n",
    "            N: number of samples\n",
    "            k: dimension of each sample\n",
    "        targets: N by 1 matrix containing label of each one\n",
    "        where \n",
    "            N: number of samples\n",
    "    returns: a scalar which is the loss value            \n",
    "    '''\n",
    "    N = predictions.shape[0] # batch size\n",
    "    k = predictions.shape[1] # numb of classes\n",
    "    \n",
    "    return -np.sum(np.eye(k)[targets]*np.log(predictions))/N"
   ]
  },
  {
   "cell_type": "code",
   "execution_count": 2826,
   "metadata": {},
   "outputs": [],
   "source": [
    "def loss_prime(self, predictions, targets):\n",
    "    N = predictions.shape[0] # batch size\n",
    "    k = predictions.shape[1] # numb of classes\n",
    "    \n",
    "    return np.sum(predictions - np.eye(k)[targets], axis=0, keepdims=1)/N"
   ]
  },
  {
   "cell_type": "code",
   "execution_count": 2827,
   "metadata": {},
   "outputs": [],
   "source": [
    "def backward(self, Y):\n",
    "    '''\n",
    "    Backward propagation\n",
    "    params:\n",
    "        Y: N by 1 matrix\n",
    "        where\n",
    "            N: number of samples\n",
    "            column: is the label of the samples\n",
    "    '''\n",
    "    N = Y.shape[0]\n",
    "    n_layers = len(self.size_layers)\n",
    "    \n",
    "    delta = loss_prime(self, self.cache['activations'][-1], Y)\n",
    "    \n",
    "    self.grads['b'][-1] = delta\n",
    "    self.grads['w'][-1] = np.dot(delta.transpose(), np.sum(self.cache['activations'][-2], axis=0, keepdims=1)/N)\n",
    "    \n",
    "    for l in range(2, n_layers):\n",
    "        z = self.cache['preactivations'][-l]\n",
    "        o = activation_prime(self, z)\n",
    "        \n",
    "        delta = np.dot(delta, self.theta['w'][-l+1])*(np.sum(o, axis=0, keepdims=1)/N)\n",
    "        \n",
    "        self.grads['b'][-l] = delta\n",
    "        self.grads['w'][-l] = np.dot(delta.transpose(),np.sum(self.cache['activations'][-l-1], axis=0, keepdims=1)/N)"
   ]
  },
  {
   "cell_type": "code",
   "execution_count": 2828,
   "metadata": {},
   "outputs": [],
   "source": [
    "def update(self, eta):\n",
    "    n_layers = len(self.size_layers)\n",
    "    \n",
    "    for layer_idx in range(n_layers - 1):\n",
    "        self.theta['w'][layer_idx] = self.theta['w'][layer_idx] - eta*self.grads['w'][layer_idx]\n",
    "        self.theta['b'][layer_idx] = self.theta['b'][layer_idx] - eta*self.grads['b'][layer_idx]"
   ]
  },
  {
   "cell_type": "code",
   "execution_count": 2829,
   "metadata": {},
   "outputs": [],
   "source": [
    "def train(self, eta):\n",
    "    train_set, valid_set, test_set = self.data\n",
    "    \n",
    "    X, Y = train_set\n",
    "    \n",
    "    forward(mlp, X)\n",
    "    backward(mlp, Y)\n",
    "    update(mlp, eta)"
   ]
  },
  {
   "cell_type": "code",
   "execution_count": 2830,
   "metadata": {},
   "outputs": [],
   "source": [
    "def test(self):\n",
    "    pass"
   ]
  },
  {
   "cell_type": "code",
   "execution_count": 2831,
   "metadata": {},
   "outputs": [
    {
     "name": "stdout",
     "output_type": "stream",
     "text": [
      "(1, 16) (1, 16)\n",
      "(1, 16) (1, 16)\n",
      "(1, 10) (1, 10)\n"
     ]
    },
    {
     "data": {
      "text/plain": [
       "{'b': [array([[0., 0., 0., 0., 0., 0., 0., 0., 0., 0., 0., 0., 0., 0., 0., 0.]]),\n",
       "  array([[0., 0., 0., 0., 0., 0., 0., 0., 0., 0., 0., 0., 0., 0., 0., 0.]]),\n",
       "  array([[0.04932, 0.05678, 0.04968, 0.05101, 0.04859, 0.04506, 0.04951,\n",
       "          0.05175, 0.04842, 0.04988]])],\n",
       " 'w': [array([[0., 0., 0., ..., 0., 0., 0.],\n",
       "         [0., 0., 0., ..., 0., 0., 0.],\n",
       "         [0., 0., 0., ..., 0., 0., 0.],\n",
       "         ...,\n",
       "         [0., 0., 0., ..., 0., 0., 0.],\n",
       "         [0., 0., 0., ..., 0., 0., 0.],\n",
       "         [0., 0., 0., ..., 0., 0., 0.]]),\n",
       "  array([[0., 0., 0., 0., 0., 0., 0., 0., 0., 0., 0., 0., 0., 0., 0., 0.],\n",
       "         [0., 0., 0., 0., 0., 0., 0., 0., 0., 0., 0., 0., 0., 0., 0., 0.],\n",
       "         [0., 0., 0., 0., 0., 0., 0., 0., 0., 0., 0., 0., 0., 0., 0., 0.],\n",
       "         [0., 0., 0., 0., 0., 0., 0., 0., 0., 0., 0., 0., 0., 0., 0., 0.],\n",
       "         [0., 0., 0., 0., 0., 0., 0., 0., 0., 0., 0., 0., 0., 0., 0., 0.],\n",
       "         [0., 0., 0., 0., 0., 0., 0., 0., 0., 0., 0., 0., 0., 0., 0., 0.],\n",
       "         [0., 0., 0., 0., 0., 0., 0., 0., 0., 0., 0., 0., 0., 0., 0., 0.],\n",
       "         [0., 0., 0., 0., 0., 0., 0., 0., 0., 0., 0., 0., 0., 0., 0., 0.],\n",
       "         [0., 0., 0., 0., 0., 0., 0., 0., 0., 0., 0., 0., 0., 0., 0., 0.],\n",
       "         [0., 0., 0., 0., 0., 0., 0., 0., 0., 0., 0., 0., 0., 0., 0., 0.],\n",
       "         [0., 0., 0., 0., 0., 0., 0., 0., 0., 0., 0., 0., 0., 0., 0., 0.],\n",
       "         [0., 0., 0., 0., 0., 0., 0., 0., 0., 0., 0., 0., 0., 0., 0., 0.],\n",
       "         [0., 0., 0., 0., 0., 0., 0., 0., 0., 0., 0., 0., 0., 0., 0., 0.],\n",
       "         [0., 0., 0., 0., 0., 0., 0., 0., 0., 0., 0., 0., 0., 0., 0., 0.],\n",
       "         [0., 0., 0., 0., 0., 0., 0., 0., 0., 0., 0., 0., 0., 0., 0., 0.],\n",
       "         [0., 0., 0., 0., 0., 0., 0., 0., 0., 0., 0., 0., 0., 0., 0., 0.]]),\n",
       "  array([[0., 0., 0., 0., 0., 0., 0., 0., 0., 0., 0., 0., 0., 0., 0., 0.],\n",
       "         [0., 0., 0., 0., 0., 0., 0., 0., 0., 0., 0., 0., 0., 0., 0., 0.],\n",
       "         [0., 0., 0., 0., 0., 0., 0., 0., 0., 0., 0., 0., 0., 0., 0., 0.],\n",
       "         [0., 0., 0., 0., 0., 0., 0., 0., 0., 0., 0., 0., 0., 0., 0., 0.],\n",
       "         [0., 0., 0., 0., 0., 0., 0., 0., 0., 0., 0., 0., 0., 0., 0., 0.],\n",
       "         [0., 0., 0., 0., 0., 0., 0., 0., 0., 0., 0., 0., 0., 0., 0., 0.],\n",
       "         [0., 0., 0., 0., 0., 0., 0., 0., 0., 0., 0., 0., 0., 0., 0., 0.],\n",
       "         [0., 0., 0., 0., 0., 0., 0., 0., 0., 0., 0., 0., 0., 0., 0., 0.],\n",
       "         [0., 0., 0., 0., 0., 0., 0., 0., 0., 0., 0., 0., 0., 0., 0., 0.],\n",
       "         [0., 0., 0., 0., 0., 0., 0., 0., 0., 0., 0., 0., 0., 0., 0., 0.]])]}"
      ]
     },
     "execution_count": 2831,
     "metadata": {},
     "output_type": "execute_result"
    }
   ],
   "source": [
    "datapath = 'data/mnist.pkl.npy'\n",
    "modelpath = 'model/mlp.pkl.npy'\n",
    "\n",
    "eta = 0.5\n",
    "mlp = NN(datapath=datapath, modelpath=modelpath)\n",
    "\n",
    "initialize_weights(mlp)\n",
    "train(mlp, eta)"
   ]
  }
 ],
 "metadata": {
  "kernelspec": {
   "display_name": "Python 3",
   "language": "python",
   "name": "python3"
  },
  "language_info": {
   "codemirror_mode": {
    "name": "ipython",
    "version": 3
   },
   "file_extension": ".py",
   "mimetype": "text/x-python",
   "name": "python",
   "nbconvert_exporter": "python",
   "pygments_lexer": "ipython3",
   "version": "3.6.8"
  }
 },
 "nbformat": 4,
 "nbformat_minor": 2
}
