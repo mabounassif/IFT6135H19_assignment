{
 "cells": [
  {
   "cell_type": "code",
   "execution_count": 3127,
   "metadata": {},
   "outputs": [],
   "source": [
    "%matplotlib inline\n",
    "\n",
    "import numpy as np\n",
    "import matplotlib.pyplot as plt\n",
    "\n",
    "class NN(object):\n",
    "    def __init__(self, size_layers=[784, 16, 16, 10], datapath=None, modelpath=None):\n",
    "        self.data = np.load(datapath)\n",
    "        self.size_layers = size_layers\n",
    "        \n",
    "        # The cache would be used to store forward feed activations and preactivations values \n",
    "        self.cache = {\n",
    "            'activations': [],\n",
    "            'preactivations': []\n",
    "        }\n",
    "        \n",
    "        # Data structure to hold the params of the model\n",
    "        self.theta = {\n",
    "            'b': [],\n",
    "            'w': []\n",
    "        }"
   ]
  },
  {
   "cell_type": "code",
   "execution_count": 3128,
   "metadata": {},
   "outputs": [],
   "source": [
    "def initialize_zero_weights(self):\n",
    "    size_next_layers = self.size_layers.copy()\n",
    "    size_next_layers.pop(0)\n",
    "    \n",
    "    for size_layer, size_next_layer in zip(self.size_layers, size_next_layers):\n",
    "        self.theta['w'].append(np.zeros((size_next_layer, size_layer)))\n",
    "        self.theta['b'].append(np.zeros((1, size_next_layer)))"
   ]
  },
  {
   "cell_type": "code",
   "execution_count": 3129,
   "metadata": {},
   "outputs": [],
   "source": [
    "def initialize_normal_weights(self):\n",
    "    size_next_layers = self.size_layers.copy()\n",
    "    size_next_layers.pop(0)\n",
    "\n",
    "    for size_layer, size_next_layer in zip(self.size_layers, size_next_layers):\n",
    "        self.theta['w'].append(np.random.normal(size=(size_next_layer, size_layer)))\n",
    "        self.theta['b'].append(np.zeros((1, size_next_layer)))"
   ]
  },
  {
   "cell_type": "code",
   "execution_count": 3130,
   "metadata": {},
   "outputs": [],
   "source": [
    "def initialize_glorot_weights(self):\n",
    "    size_next_layers = self.size_layers.copy()\n",
    "    size_next_layers.pop(0)\n",
    "\n",
    "    for size_layer, size_next_layer in zip(self.size_layers, size_next_layers):\n",
    "        d_l = np.sqrt(6/(size_layer+size_next_layer))\n",
    "        m_d_l = -1*d_l\n",
    "        \n",
    "        self.theta['w'].append(np.random.uniform(m_d_l, d_l, size=(size_next_layer, size_layer)))\n",
    "        self.theta['b'].append(np.zeros((1, size_next_layer)))"
   ]
  },
  {
   "cell_type": "code",
   "execution_count": 3131,
   "metadata": {},
   "outputs": [],
   "source": [
    "def forward(self, x):\n",
    "    '''\n",
    "    Forward propagation\n",
    "    params:\n",
    "        x: sample of k dimension\n",
    "    returns: output of the network of dimention specified\n",
    "    in mlp initialization\n",
    "    '''\n",
    "    n_layers = len(self.size_layers)\n",
    "    input_layer = x\n",
    "    \n",
    "    # Adding input in activations needed for gradient descent\n",
    "    self.cache['activations'] = [x]\n",
    "    self.cache['preactivations'] = [None]\n",
    "    \n",
    "    # Index stops before the last layer as we'd need to treat it differently\n",
    "    for layer_idx in range(n_layers - 2):\n",
    "        \n",
    "        # Multiply the input by the weights\n",
    "        pre_act_layer = np.matmul(input_layer,  self.theta['w'][layer_idx].transpose()) + self.theta['b'][layer_idx]\n",
    "        # Apply activation function\n",
    "        output_layer = activation(self, pre_act_layer)\n",
    "        \n",
    "        self.cache['preactivations'].append(pre_act_layer)\n",
    "        self.cache['activations'].append(output_layer)\n",
    "        \n",
    "        input_layer = output_layer\n",
    "    \n",
    "    # Final layer with softmax activation\n",
    "    # Multiply the input by the weights\n",
    "    pre_act_layer = np.matmul(input_layer, self.theta['w'][-1].transpose()) + self.theta['b'][-1]\n",
    "    # Apply activation function\n",
    "    output_layer = softmax(self, pre_act_layer)\n",
    "\n",
    "    self.cache['preactivations'].append(pre_act_layer)\n",
    "    self.cache['activations'].append(output_layer)\n",
    "    \n",
    "    return output_layer"
   ]
  },
  {
   "cell_type": "code",
   "execution_count": 3132,
   "metadata": {},
   "outputs": [],
   "source": [
    "def activation(self, x):\n",
    "    zero_aux = np.zeros(x.shape)\n",
    "    meta_z = np.stack((x , zero_aux), axis = -1)\n",
    "    \n",
    "    return np.max(meta_z, axis = -1)"
   ]
  },
  {
   "cell_type": "code",
   "execution_count": 3133,
   "metadata": {},
   "outputs": [],
   "source": [
    "def activation_prime(self, x):\n",
    "    result = x.copy()\n",
    "    result[result<=0] = 0\n",
    "    result[result>0] = 1\n",
    "\n",
    "    return result"
   ]
  },
  {
   "cell_type": "code",
   "execution_count": 3134,
   "metadata": {},
   "outputs": [],
   "source": [
    "def softmax(self, x):\n",
    "    e_x = np.exp(x - np.max(x, axis=1, keepdims=1))\n",
    "    return e_x / e_x.sum(axis=1, keepdims=1)"
   ]
  },
  {
   "cell_type": "code",
   "execution_count": 3135,
   "metadata": {},
   "outputs": [],
   "source": [
    "def loss(self, predictions, targets):\n",
    "    '''\n",
    "    Takes a batch of predictions and gets the cross entropy\n",
    "    params:\n",
    "        predictions: N by k matrix\n",
    "        where\n",
    "            N: number of samples\n",
    "            k: dimension of each sample\n",
    "        targets: N by 1 matrix containing label of each one\n",
    "        where \n",
    "            N: number of samples\n",
    "    returns: a scalar which is the loss value            \n",
    "    '''\n",
    "    N = predictions.shape[0] # batch size\n",
    "    k = predictions.shape[1] # numb of classes\n",
    "    \n",
    "    return -1*np.sum(np.multiply(np.eye(k)[targets][0], np.log10(predictions)))/N"
   ]
  },
  {
   "cell_type": "code",
   "execution_count": 3136,
   "metadata": {},
   "outputs": [],
   "source": [
    "def loss_prime(self, prediction, target):\n",
    "    k = prediction.shape[1] # numb of classes\n",
    "\n",
    "    return np.multiply(np.eye(k)[target], np.eye(k)[target] - prediction)"
   ]
  },
  {
   "cell_type": "code",
   "execution_count": 3137,
   "metadata": {},
   "outputs": [],
   "source": [
    "def backward(self, y):\n",
    "    '''\n",
    "    Backward propagation\n",
    "    params:\n",
    "        y: current label\n",
    "    '''\n",
    "    n_layers = len(self.size_layers)\n",
    "    \n",
    "    grads = {\n",
    "        'b': [None] * (n_layers-1),\n",
    "        'w': [None] * (n_layers-1)\n",
    "    }\n",
    "    \n",
    "    delta = loss_prime(self, self.cache['activations'][-1], y)\n",
    "    \n",
    "    grads['b'][-1] = delta\n",
    "    grads['w'][-1] = np.dot(delta.transpose(), self.cache['activations'][-2])\n",
    "    \n",
    "    for l in range(2, n_layers):\n",
    "        z = self.cache['preactivations'][-l]\n",
    "        o = activation_prime(self, z)\n",
    "        \n",
    "        delta = np.multiply(np.dot(delta, self.theta['w'][-l+1]), o)\n",
    "        \n",
    "        grads['b'][-l] = delta\n",
    "        grads['w'][-l] = np.dot(delta.transpose(), self.cache['activations'][-l-1])\n",
    "        \n",
    "    return grads"
   ]
  },
  {
   "cell_type": "code",
   "execution_count": 3138,
   "metadata": {},
   "outputs": [],
   "source": [
    "def update(self, eta, lmbda, grads):\n",
    "    n_layers = len(self.size_layers)\n",
    "    \n",
    "    for layer_idx in range(n_layers - 1):\n",
    "        grad_w = grads['w'][layer_idx]\n",
    "        grad_b = grads['b'][layer_idx]\n",
    "        w = self.theta['w'][layer_idx]\n",
    "        b = self.theta['b'][layer_idx]\n",
    "        \n",
    "        self.theta['w'][layer_idx] = w - eta*grad_w - lmbda*w\n",
    "        self.theta['b'][layer_idx] = b - eta*grad_b - lmbda*b"
   ]
  },
  {
   "cell_type": "code",
   "execution_count": 3139,
   "metadata": {},
   "outputs": [],
   "source": [
    "def create_mini_batches(self, dataset, batch_size):\n",
    "        X, Y = dataset\n",
    "        \n",
    "        mini_batches = [\n",
    "            (X[k:k+batch_size], Y[k:k+batch_size]) for k in range(0, len(X), batch_size)\n",
    "        ]\n",
    "        \n",
    "        return mini_batches"
   ]
  },
  {
   "cell_type": "code",
   "execution_count": 3140,
   "metadata": {},
   "outputs": [],
   "source": [
    "def calculate_accuracy(self, y, y_h):\n",
    "    return 100*np.sum(np.argmax(Y_h, axis=1) == Y)/ Y_h.shape[0]"
   ]
  },
  {
   "cell_type": "code",
   "execution_count": 3141,
   "metadata": {},
   "outputs": [],
   "source": [
    "last_batch = []\n",
    "def train(self, eta, epoch=20, batch_size=1000, lmbda=0.5):\n",
    "    losses = {\n",
    "        'train': [],\n",
    "        'validation': []\n",
    "    }\n",
    "    \n",
    "    accuracies = {\n",
    "        'train': [],\n",
    "        'validation': []\n",
    "    }\n",
    "    \n",
    "    for i in range(epoch):\n",
    "        train_set, valid_set, test_set = self.data\n",
    "        \n",
    "        train_mini_batches = create_mini_batches(self, train_set, batch_size=batch_size)\n",
    "        validate_mini_batches = create_mini_batches(self, valid_set, batch_size=batch_size)\n",
    "        \n",
    "        tmp_losses = {\n",
    "            'train': [],\n",
    "            'validation': []\n",
    "        }\n",
    "        \n",
    "        tmp_accuracies = {\n",
    "            'train': [],\n",
    "            'validation': []\n",
    "        }\n",
    "        \n",
    "        for X, Y in train_mini_batches:\n",
    "            tmp_grads = {\n",
    "                'w': [],\n",
    "                'b': []\n",
    "            }\n",
    "                \n",
    "            for x, y in zip(X, Y):\n",
    "                Y_h = forward(self, np.array([x]))\n",
    "                grads = backward(self, np.array([y]))\n",
    "                \n",
    "                tmp_grads['w'].append(grads['w'])\n",
    "                tmp_grads['b'].append(grads['b'])\n",
    "            \n",
    "#             w_grad = tmp_grads['w'][0]\n",
    "#             b_grad = tmp_grads['b'][0]\n",
    "            \n",
    "#             for x, y in zip(tmp_grads['w'][1:], tmp_grads['w'][2:]):\n",
    "#                 w_grad += x + y\n",
    "                \n",
    "#             for x, y in zip(tmp_grads['b'][1:], tmp_grads['b'][2:]):\n",
    "#                 b_grad += x + y\n",
    "                \n",
    "#             update(self, eta, lmbda, {\n",
    "#                 'w': [_w_grad / len(tmp_grads['w']) for _w_grad in w_grad] ,\n",
    "#                 'b': [_b_grad / len(tmp_grads['b']) for _b_grad in b_grad]\n",
    "#             })\n",
    "            \n",
    "            los = loss(self, Y_h, Y)\n",
    "            acc = calculate_accuracy(self, Y_h, Y)\n",
    "            \n",
    "            tmp_losses['train'].append(los)\n",
    "            tmp_accuracies['train'].append(acc)\n",
    "            \n",
    "        for X, Y in validate_mini_batches:\n",
    "            Y_h = forward(self, X)\n",
    "            \n",
    "            los = loss(self, Y_h, Y)\n",
    "            acc = calculate_accuracy(self, Y_h, Y)\n",
    "            \n",
    "            last_batch = [(X, Y, Y_h)]\n",
    "            \n",
    "            tmp_losses['validation'].append(los)\n",
    "            tmp_accuracies['validation'].append(acc)\n",
    "            \n",
    "        losses['validation'].append(np.mean(tmp_losses['validation']))\n",
    "        losses['train'].append(np.mean(tmp_losses['train']))\n",
    "        \n",
    "        accuracies['validation'].append(np.mean(tmp_accuracies['validation']))\n",
    "        accuracies['train'].append(np.mean(tmp_accuracies['train']))\n",
    "        \n",
    "    return losses, accuracies"
   ]
  },
  {
   "cell_type": "code",
   "execution_count": 3142,
   "metadata": {},
   "outputs": [],
   "source": [
    "def test(self):\n",
    "    train_set, valid_set, test_set = self.data\n",
    "\n",
    "    X, Y = test_set\n",
    "    Y_h = forward(self, X)\n",
    "    \n",
    "    return np.sum(np.argmax(Y_h, axis=1) != Y)/ X.shape[0]"
   ]
  },
  {
   "cell_type": "code",
   "execution_count": 3143,
   "metadata": {},
   "outputs": [],
   "source": [
    "def draw_plots(self, epoch, accuracies, losses):\n",
    "    x = range(epoch)\n",
    "    fig, ax1 = plt.subplots()\n",
    "\n",
    "    ax2 = ax1.twinx()\n",
    "    ax1.plot(x, accuracies['validation'], 'g-')\n",
    "    ax2.plot(x, accuracies['train'], 'b-')\n",
    "\n",
    "    ax1.set_xlabel('epochs')\n",
    "    ax1.set_ylabel('validation accuracies', color='g')\n",
    "    ax2.set_ylabel('train accuracies', color='b')\n",
    "    plt.title('Accuracies')\n",
    "\n",
    "    fig, ax1 = plt.subplots()\n",
    "\n",
    "    ax2 = ax1.twinx()\n",
    "    ax1.plot(x, losses['validation'], 'g-')\n",
    "    ax2.plot(x, losses['train'], 'b-')\n",
    "\n",
    "    ax1.set_xlabel('epochs')\n",
    "    ax1.set_ylabel('validation loss', color='g')\n",
    "    ax2.set_ylabel('train loss', color='b')\n",
    "    plt.title('Loss functions')\n",
    "\n",
    "    plt.show()"
   ]
  },
  {
   "cell_type": "markdown",
   "metadata": {},
   "source": [
    "## Initialization\n",
    "\n",
    "Initializing weights to zero, with 0.5 as learning rate and no minibatch"
   ]
  },
  {
   "cell_type": "code",
   "execution_count": 3144,
   "metadata": {},
   "outputs": [
    {
     "data": {
      "image/png": "[encoded data removed]",
      "text/plain": [
       "<matplotlib.figure.Figure at 0x113ea5d68>"
      ]
     },
     "metadata": {},
     "output_type": "display_data"
    },
    {
     "data": {
      "image/png": "[encoded data removed]",
      "text/plain": [
       "<matplotlib.figure.Figure at 0x1288c01d0>"
      ]
     },
     "metadata": {},
     "output_type": "display_data"
    }
   ],
   "source": [
    "datapath = 'data/mnist.pkl.npy'\n",
    "modelpath = 'model/mlp.pkl.npy'\n",
    "\n",
    "eta = 0.03\n",
    "batch_size = 500\n",
    "epoch = 10\n",
    "lmbda = 0\n",
    "\n",
    "mlp = NN(datapath=datapath, modelpath=modelpath, size_layers=[784, 10, 10, 10])\n",
    "\n",
    "initialize_zero_weights(mlp)\n",
    "losses, accuracies = train(mlp, eta, epoch=epoch, batch_size=batch_size, lmbda=lmbda)\n",
    "\n",
    "draw_plots(mlp, epoch, accuracies, losses)"
   ]
  },
  {
   "cell_type": "markdown",
   "metadata": {},
   "source": [
    "Initializing normally distributed weights"
   ]
  },
  {
   "cell_type": "code",
   "execution_count": null,
   "metadata": {
    "scrolled": false
   },
   "outputs": [],
   "source": [
    "datapath = 'data/mnist.pkl.npy'\n",
    "modelpath = 'model/mlp.pkl.npy'\n",
    "\n",
    "eta = 0.000045\n",
    "batch_size = 500\n",
    "epoch = 10\n",
    "lmbda = 0\n",
    "\n",
    "mlp = NN(datapath=datapath, modelpath=modelpath, size_layers=[784, 10, 10, 10])\n",
    "\n",
    "initialize_normal_weights(mlp)\n",
    "losses, accuracies = train(mlp, eta, epoch=epoch, batch_size=batch_size, lmbda=lmbda)\n",
    "\n",
    "draw_plots(mlp, epoch, accuracies, losses)"
   ]
  },
  {
   "cell_type": "markdown",
   "metadata": {},
   "source": [
    "Initializing with glorot distributed weights"
   ]
  },
  {
   "cell_type": "code",
   "execution_count": null,
   "metadata": {},
   "outputs": [],
   "source": [
    "datapath = 'data/mnist.pkl.npy'\n",
    "modelpath = 'model/mlp.pkl.npy'\n",
    "\n",
    "eta = 0.0003\n",
    "batch_size = 500\n",
    "epoch = 10\n",
    "lmbda = 0\n",
    "\n",
    "mlp = NN(datapath=datapath, modelpath=modelpath, size_layers=[784, 16, 16, 10])\n",
    "\n",
    "initialize_glorot_weights(mlp)\n",
    "losses, accuracies = train(mlp, eta, epoch=epoch, batch_size=batch_size, lmbda=lmbda)\n",
    "\n",
    "draw_plots(mlp, epoch, accuracies, losses)"
   ]
  },
  {
   "cell_type": "markdown",
   "metadata": {},
   "source": [
    "## Hyperparameter Search"
   ]
  },
  {
   "cell_type": "code",
   "execution_count": null,
   "metadata": {},
   "outputs": [],
   "source": [
    "datapath = 'data/mnist.pkl.npy'\n",
    "modelpath = 'model/mlp.pkl.npy'\n",
    "\n",
    "eta = 0.0003\n",
    "batch_size = 500\n",
    "epoch = 10\n",
    "lmbda = 0.00200\n",
    "\n",
    "mlp = NN(datapath=datapath, modelpath=modelpath, size_layers=[784, 16, 16, 10])\n",
    "\n",
    "initialize_glorot_weights(mlp)\n",
    "losses, accuracies = train(mlp, eta, epoch=epoch, batch_size=batch_size, lmbda=lmbda)\n",
    "\n",
    "draw_plots(mlp, epoch, accuracies, losses)"
   ]
  },
  {
   "cell_type": "markdown",
   "metadata": {},
   "source": [
    "## Validate Gradients using Finite Difference"
   ]
  },
  {
   "cell_type": "code",
   "execution_count": null,
   "metadata": {},
   "outputs": [],
   "source": [
    "i = np.random.randint(0, 5, 5)\n",
    "k = np.random.randint(1, 5, 5)\n",
    "\n",
    "N = [k*10^i for i, k in zip(i, k)]\n",
    "epsilons = [1/n for n in N]\n",
    "\n",
    "mlp = NN(datapath=datapath, modelpath=modelpath, size_layers=[784, 16, 16, 10])\n",
    "\n",
    "p = min(10, 16)\n",
    "\n",
    "train_set, valid_set, test_set = mlp.data\n",
    "\n",
    "X, Y = train_set\n",
    "\n",
    "x = X[0]\n",
    "y = Y[0]\n",
    "\n",
    "results = []\n",
    "for e, i, N, k in zip(epsilons, i, N, k):\n",
    "    initialize_glorot_weights(mlp)\n",
    "    mlp.theta['w'][1][:,p:] = 0\n",
    "    old_w = mlp.theta['w'][1][:,i]\n",
    "    \n",
    "    mlp.theta['w'][1][:,i] = old_w + e\n",
    "    Y_h = forward(mlp, x)\n",
    "    l_los = loss(mlp, Y_h, y)\n",
    "    \n",
    "    mlp.theta['w'][1][:,i] = old_w - e\n",
    "    Y_h = forward(mlp, x)\n",
    "    r_los = loss(mlp, Y_h, y)\n",
    "    \n",
    "    delta_N_i = (l_los - r_los)/(2*e)\n",
    "    results.append((e, i, k, N, delta_N_i))\n",
    "    \n",
    "print(results)"
   ]
  },
  {
   "cell_type": "code",
   "execution_count": null,
   "metadata": {},
   "outputs": [],
   "source": [
    "N = range(1, 50)\n",
    "i = range(1, p)\n",
    "\n",
    "max_diff = []\n",
    "\n",
    "initialize_glorot_weights(mlp)\n",
    "\n",
    "for n in N:\n",
    "    e = 1/n\n",
    "    grad_diff = []\n",
    "    \n",
    "    for _i in i:\n",
    "        mlp.theta['w'][1][:,p:] = 0\n",
    "        old_w = mlp.theta['w'][1][:,_i]\n",
    "\n",
    "        mlp.theta['w'][1][:,_i] = old_w + e\n",
    "        Y_h = forward(mlp, x)\n",
    "        l_los = loss(mlp, Y_h, y)\n",
    "\n",
    "        mlp.theta['w'][1][:,_i] = old_w - e\n",
    "        Y_h = forward(mlp, x)\n",
    "        r_los = loss(mlp, Y_h, y)\n",
    "\n",
    "        delta_N_i = (l_los - r_los)/(2*e)\n",
    "        \n",
    "        mlp.theta['w'][1][:,_i] = old_w\n",
    "        mlp.theta['w'][1][:,p:] = 0\n",
    "        \n",
    "        forward(mlp, x)\n",
    "        backward(mlp, np.array([y]))\n",
    "        real_grad = mlp.grads['w'][1]\n",
    "        \n",
    "        grad_diff.append(abs(delta_N_i - real_grad))\n",
    "    \n",
    "    max_diff.append(np.max(grad_diff))\n",
    "    \n"
   ]
  },
  {
   "cell_type": "code",
   "execution_count": null,
   "metadata": {},
   "outputs": [],
   "source": [
    "plt.plot(N, max_diff)\n",
    "plt.xlabel('N') \n",
    "plt.title('abs(true grad - finite diff)')\n",
    "plt.show()"
   ]
  },
  {
   "cell_type": "code",
   "execution_count": null,
   "metadata": {},
   "outputs": [],
   "source": [
    "x = np.array([\n",
    "    [1, 3, 6, 8],\n",
    "    [2, 4, 7, 9]\n",
    "])\n",
    "y = np.array([ \n",
    "    0, \n",
    "    1\n",
    "])\n",
    "\n",
    "mlp_experience = NN(datapath=datapath, modelpath=modelpath, size_layers=[4, 2, 2])\n",
    "initialize_glorot_weights(mlp_experience)"
   ]
  },
  {
   "cell_type": "code",
   "execution_count": null,
   "metadata": {},
   "outputs": [],
   "source": [
    "x = np.array([\n",
    "    [1, 3, 6, 8],\n",
    "    [2, 4, 7, 9]\n",
    "])\n",
    "y = np.array([ \n",
    "    0, \n",
    "    0\n",
    "])\n",
    "y_h = forward(mlp_experience, x)"
   ]
  },
  {
   "cell_type": "code",
   "execution_count": null,
   "metadata": {},
   "outputs": [],
   "source": [
    "print(0.50037769*2 + 0.52710657*4 -0.47977167*7 + 0.84972747*9)\n",
    "print(0.34739177*2 -0.78948968*4 +  0.61106684*7 +  0.1246129*9)"
   ]
  },
  {
   "cell_type": "code",
   "execution_count": null,
   "metadata": {},
   "outputs": [],
   "source": [
    "print(-0.06578369*7.39832714 - 0.56865302*2.93580881)\n",
    "print(-0.70030729*7.39832714 + 0.13967644*2.93580881)"
   ]
  },
  {
   "cell_type": "code",
   "execution_count": null,
   "metadata": {},
   "outputs": [],
   "source": [
    "mlp_experience.theta"
   ]
  },
  {
   "cell_type": "code",
   "execution_count": null,
   "metadata": {},
   "outputs": [],
   "source": [
    "mlp_experience.cache"
   ]
  },
  {
   "cell_type": "code",
   "execution_count": null,
   "metadata": {},
   "outputs": [],
   "source": [
    "backward(mlp_experience, y)\n",
    "mlp_experience.grads"
   ]
  },
  {
   "cell_type": "code",
   "execution_count": null,
   "metadata": {},
   "outputs": [],
   "source": [
    "loss(mlp_experience, y_h, y)"
   ]
  },
  {
   "cell_type": "code",
   "execution_count": null,
   "metadata": {},
   "outputs": [],
   "source": []
  }
 ],
 "metadata": {
  "kernelspec": {
   "display_name": "Python 3",
   "language": "python",
   "name": "python3"
  },
  "language_info": {
   "codemirror_mode": {
    "name": "ipython",
    "version": 3
   },
   "file_extension": ".py",
   "mimetype": "text/x-python",
   "name": "python",
   "nbconvert_exporter": "python",
   "pygments_lexer": "ipython3",
   "version": "3.6.8"
  }
 },
 "nbformat": 4,
 "nbformat_minor": 2
}
