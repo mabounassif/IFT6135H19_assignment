{
 "cells": [
  {
   "cell_type": "code",
   "execution_count": 3281,
   "metadata": {},
   "outputs": [],
   "source": [
    "%matplotlib inline\n",
    "\n",
    "import numpy as np\n",
    "import matplotlib.pyplot as plt\n",
    "\n",
    "class NN(object):\n",
    "    def __init__(self, size_layers=[784, 16, 16, 10], datapath=None, modelpath=None):\n",
    "        self.data = np.load(datapath)\n",
    "        self.size_layers = size_layers\n",
    "        \n",
    "        # The cache would be used to store forward feed activations and preactivations values \n",
    "        self.cache = {\n",
    "            'activations': [],\n",
    "            'preactivations': []\n",
    "        }\n",
    "        \n",
    "        # Data structure to hold the params of the model\n",
    "        self.theta = {\n",
    "            'b': [],\n",
    "            'w': []\n",
    "        }"
   ]
  },
  {
   "cell_type": "code",
   "execution_count": 3282,
   "metadata": {},
   "outputs": [],
   "source": [
    "def initialize_zero_weights(self):\n",
    "    size_next_layers = self.size_layers.copy()\n",
    "    size_next_layers.pop(0)\n",
    "    \n",
    "    for size_layer, size_next_layer in zip(self.size_layers, size_next_layers):\n",
    "        self.theta['w'].append(np.zeros((size_next_layer, size_layer)))\n",
    "        self.theta['b'].append(np.zeros((1, size_next_layer)))"
   ]
  },
  {
   "cell_type": "code",
   "execution_count": 3283,
   "metadata": {},
   "outputs": [],
   "source": [
    "def initialize_normal_weights(self):\n",
    "    size_next_layers = self.size_layers.copy()\n",
    "    size_next_layers.pop(0)\n",
    "\n",
    "    for size_layer, size_next_layer in zip(self.size_layers, size_next_layers):\n",
    "        self.theta['w'].append(np.random.normal(size=(size_next_layer, size_layer)))\n",
    "        self.theta['b'].append(np.zeros((1, size_next_layer)))"
   ]
  },
  {
   "cell_type": "code",
   "execution_count": 3284,
   "metadata": {},
   "outputs": [],
   "source": [
    "def initialize_glorot_weights(self):\n",
    "    size_next_layers = self.size_layers.copy()\n",
    "    size_next_layers.pop(0)\n",
    "\n",
    "    for size_layer, size_next_layer in zip(self.size_layers, size_next_layers):\n",
    "        d_l = np.sqrt(6/(size_layer+size_next_layer))\n",
    "        m_d_l = -1*d_l\n",
    "        \n",
    "        self.theta['w'].append(np.random.uniform(m_d_l, d_l, size=(size_next_layer, size_layer)))\n",
    "        self.theta['b'].append(np.zeros((1, size_next_layer)))"
   ]
  },
  {
   "cell_type": "code",
   "execution_count": 3285,
   "metadata": {},
   "outputs": [],
   "source": [
    "def forward(self, x):\n",
    "    '''\n",
    "    Forward propagation\n",
    "    params:\n",
    "        x: sample of k dimension\n",
    "    returns: output of the network of dimention specified\n",
    "    in mlp initialization\n",
    "    '''\n",
    "    n_layers = len(self.size_layers)\n",
    "    input_layer = x\n",
    "    \n",
    "    # Adding input in activations needed for gradient descent\n",
    "    self.cache['activations'] = [x]\n",
    "    self.cache['preactivations'] = [None]\n",
    "    \n",
    "    # Index stops before the last layer as we'd need to treat it differently\n",
    "    for layer_idx in range(n_layers - 2):\n",
    "        \n",
    "        # Multiply the input by the weights\n",
    "        pre_act_layer = np.matmul(input_layer,  self.theta['w'][layer_idx].transpose()) + self.theta['b'][layer_idx]\n",
    "        # Apply activation function\n",
    "        output_layer = activation(self, pre_act_layer)\n",
    "        \n",
    "        self.cache['preactivations'].append(pre_act_layer)\n",
    "        self.cache['activations'].append(output_layer)\n",
    "        \n",
    "        input_layer = output_layer\n",
    "    \n",
    "    # Final layer with softmax activation\n",
    "    # Multiply the input by the weights\n",
    "    pre_act_layer = np.matmul(input_layer, self.theta['w'][-1].transpose()) + self.theta['b'][-1]\n",
    "    # Apply activation function\n",
    "    output_layer = softmax(self, pre_act_layer)\n",
    "\n",
    "    self.cache['preactivations'].append(pre_act_layer)\n",
    "    self.cache['activations'].append(output_layer)\n",
    "    \n",
    "    return output_layer"
   ]
  },
  {
   "cell_type": "code",
   "execution_count": 3286,
   "metadata": {},
   "outputs": [],
   "source": [
    "def activation(self, x):\n",
    "    zero_aux = np.zeros(x.shape)\n",
    "    meta_z = np.stack((x , zero_aux), axis = -1)\n",
    "    \n",
    "    return np.max(meta_z, axis = -1)"
   ]
  },
  {
   "cell_type": "code",
   "execution_count": 3287,
   "metadata": {},
   "outputs": [],
   "source": [
    "def activation_prime(self, x):\n",
    "    result = x.copy()\n",
    "    result[result<=0] = 0\n",
    "    result[result>0] = 1\n",
    "\n",
    "    return result"
   ]
  },
  {
   "cell_type": "code",
   "execution_count": 3288,
   "metadata": {},
   "outputs": [],
   "source": [
    "def softmax(self, x):\n",
    "    e_x = np.exp(x - np.max(x, axis=1, keepdims=1))\n",
    "    return e_x / e_x.sum(axis=1, keepdims=1)"
   ]
  },
  {
   "cell_type": "code",
   "execution_count": 3289,
   "metadata": {},
   "outputs": [],
   "source": [
    "def loss(self, predictions, targets):\n",
    "    '''\n",
    "    Takes a batch of predictions and gets the cross entropy\n",
    "    params:\n",
    "        predictions: N by k matrix\n",
    "        where\n",
    "            N: number of samples\n",
    "            k: dimension of each sample\n",
    "        targets: N by 1 matrix containing label of each one\n",
    "        where \n",
    "            N: number of samples\n",
    "    returns: a scalar which is the loss value            \n",
    "    '''\n",
    "    N = predictions.shape[0] # batch size\n",
    "    k = predictions.shape[1] # numb of classes\n",
    "    \n",
    "    return -1*np.sum(np.multiply(np.eye(k)[targets][0], np.log10(predictions)))/N"
   ]
  },
  {
   "cell_type": "code",
   "execution_count": 3290,
   "metadata": {},
   "outputs": [],
   "source": [
    "def loss_prime(self, prediction, target):\n",
    "    k = prediction.shape[1] # numb of classes\n",
    "\n",
    "    return np.multiply(np.eye(k)[target], np.eye(k)[target] - prediction)"
   ]
  },
  {
   "cell_type": "code",
   "execution_count": 3291,
   "metadata": {},
   "outputs": [],
   "source": [
    "def backward(self, y):\n",
    "    '''\n",
    "    Backward propagation\n",
    "    params:\n",
    "        y: current label\n",
    "    '''\n",
    "    n_layers = len(self.size_layers)\n",
    "    \n",
    "    grads = {\n",
    "        'b': [None] * (n_layers-1),\n",
    "        'w': [None] * (n_layers-1)\n",
    "    }\n",
    "    \n",
    "    delta = loss_prime(self, self.cache['activations'][-1], y)\n",
    "    \n",
    "    grads['b'][-1] = delta\n",
    "    grads['w'][-1] = np.dot(delta.transpose(), self.cache['activations'][-2])\n",
    "    \n",
    "    for l in range(2, n_layers):\n",
    "        z = self.cache['preactivations'][-l]\n",
    "        o = activation_prime(self, z)\n",
    "        \n",
    "        delta = np.multiply(np.dot(delta, self.theta['w'][-l+1]), o)\n",
    "        \n",
    "        grads['b'][-l] = delta\n",
    "        grads['w'][-l] = np.dot(delta.transpose(), self.cache['activations'][-l-1])\n",
    "        \n",
    "    return grads"
   ]
  },
  {
   "cell_type": "code",
   "execution_count": 3292,
   "metadata": {},
   "outputs": [],
   "source": [
    "def update(self, eta, lmbda, grads, n):\n",
    "    n_layers = len(self.size_layers)\n",
    "    \n",
    "    self.theta['b'] = [b-(eta/n)*nb for b, nb in zip(self.theta['b'], grads['b'])]\n",
    "    self.theta['w'] = [(1-eta*(lmbda/n))*w-(eta/n)*nw for w, nw in zip(self.theta['w'], grads['w'])]"
   ]
  },
  {
   "cell_type": "code",
   "execution_count": 3293,
   "metadata": {},
   "outputs": [],
   "source": [
    "def create_mini_batches(self, dataset, batch_size):\n",
    "        X, Y = dataset\n",
    "        \n",
    "        mini_batches = [\n",
    "            (X[k:k+batch_size], Y[k:k+batch_size]) for k in range(0, len(X), batch_size)\n",
    "        ]\n",
    "        \n",
    "        return mini_batches"
   ]
  },
  {
   "cell_type": "code",
   "execution_count": 3294,
   "metadata": {},
   "outputs": [],
   "source": [
    "def calculate_accuracy(self, y, y_h):\n",
    "    return 100*np.sum(np.argmax(Y_h, axis=1) == Y)/ Y_h.shape[0]"
   ]
  },
  {
   "cell_type": "code",
   "execution_count": 3310,
   "metadata": {},
   "outputs": [],
   "source": [
    "def train(self, eta, epoch=20, batch_size=1000, lmbda=0.5):\n",
    "    losses = {\n",
    "        'train': [],\n",
    "        'validation': []\n",
    "    }\n",
    "    \n",
    "    accuracies = {\n",
    "        'train': [],\n",
    "        'validation': []\n",
    "    }\n",
    "    \n",
    "    for i in range(epoch):\n",
    "        train_set, valid_set, test_set = self.data\n",
    "        \n",
    "        train_mini_batches = create_mini_batches(self, train_set, batch_size=batch_size)\n",
    "        validate_mini_batches = create_mini_batches(self, valid_set, batch_size=batch_size)\n",
    "        \n",
    "        tmp_losses = {\n",
    "            'train': [],\n",
    "            'validation': []\n",
    "        }\n",
    "        \n",
    "        tmp_accuracies = {\n",
    "            'train': [],\n",
    "            'validation': []\n",
    "        }\n",
    "        \n",
    "        for X, Y in train_mini_batches:\n",
    "            nabla_b = [np.zeros(b.shape) for b in self.theta['b']]\n",
    "            nabla_w = [np.zeros(w.shape) for w in self.theta['w']]\n",
    "                \n",
    "            for x, y in zip(X, Y):\n",
    "                Y_h = forward(self, np.array([x]))\n",
    "                grads = backward(self, np.array([y]))\n",
    "                \n",
    "                nabla_b = [nb+dnb for nb, dnb in zip(nabla_b, grads['b'])]\n",
    "                nabla_w = [nw+dnw for nw, dnw in zip(nabla_w, grads['w'])]\n",
    "            \n",
    "            update(self, eta, lmbda, {\n",
    "                'b': nabla_b,\n",
    "                'w': nabla_w\n",
    "            }, X.shape[0])\n",
    "            \n",
    "            Y_h = forward(self, X)\n",
    "            los = loss(self, Y_h, Y)\n",
    "            acc = calculate_accuracy(self, Y_h, Y)\n",
    "            \n",
    "            tmp_losses['train'].append(los)\n",
    "            tmp_accuracies['train'].append(acc)\n",
    "            \n",
    "        for X, Y in validate_mini_batches:\n",
    "            Y_h = forward(self, X)\n",
    "            \n",
    "            los = loss(self, Y_h, Y)\n",
    "            acc = calculate_accuracy(self, Y_h, Y)\n",
    "            \n",
    "            last_batch = [(X, Y, Y_h)]\n",
    "            \n",
    "            tmp_losses['validation'].append(los)\n",
    "            tmp_accuracies['validation'].append(acc)\n",
    "            \n",
    "        losses['validation'].append(np.mean(tmp_losses['validation']))\n",
    "        losses['train'].append(np.mean(tmp_losses['train']))\n",
    "        \n",
    "        accuracies['validation'].append(np.mean(tmp_accuracies['validation']))\n",
    "        accuracies['train'].append(np.mean(tmp_accuracies['train']))\n",
    "        \n",
    "    return losses, accuracies"
   ]
  },
  {
   "cell_type": "code",
   "execution_count": 3311,
   "metadata": {},
   "outputs": [],
   "source": [
    "def test(self):\n",
    "    train_set, valid_set, test_set = self.data\n",
    "\n",
    "    X, Y = test_set\n",
    "    Y_h = forward(self, X)\n",
    "    \n",
    "    return np.sum(np.argmax(Y_h, axis=1) != Y)/ X.shape[0]"
   ]
  },
  {
   "cell_type": "code",
   "execution_count": 3312,
   "metadata": {},
   "outputs": [],
   "source": [
    "def draw_plots(self, epoch, accuracies, losses):\n",
    "    x = range(epoch)\n",
    "    fig, ax1 = plt.subplots()\n",
    "\n",
    "    ax2 = ax1.twinx()\n",
    "    ax1.plot(x, accuracies['validation'], 'g-')\n",
    "    ax2.plot(x, accuracies['train'], 'b-')\n",
    "\n",
    "    ax1.set_xlabel('epochs')\n",
    "    ax1.set_ylabel('validation accuracies', color='g')\n",
    "    ax2.set_ylabel('train accuracies', color='b')\n",
    "    plt.title('Accuracies')\n",
    "\n",
    "    fig, ax1 = plt.subplots()\n",
    "\n",
    "    ax2 = ax1.twinx()\n",
    "    ax1.plot(x, losses['validation'], 'g-')\n",
    "    ax2.plot(x, losses['train'], 'b-')\n",
    "\n",
    "    ax1.set_xlabel('epochs')\n",
    "    ax1.set_ylabel('validation loss', color='g')\n",
    "    ax2.set_ylabel('train loss', color='b')\n",
    "    plt.title('Loss functions')\n",
    "\n",
    "    plt.show()"
   ]
  },
  {
   "cell_type": "markdown",
   "metadata": {},
   "source": [
    "## Initialization\n",
    "\n",
    "Initializing weights to zero, with 0.5 as learning rate and no minibatch"
   ]
  },
  {
   "cell_type": "code",
   "execution_count": 3313,
   "metadata": {},
   "outputs": [
    {
     "data": {
      "image/png": "[encoded data removed]",
      "text/plain": [
       "<matplotlib.figure.Figure at 0x161ef56d8>"
      ]
     },
     "metadata": {},
     "output_type": "display_data"
    },
    {
     "data": {
      "image/png": "[encoded data removed]",
      "text/plain": [
       "<matplotlib.figure.Figure at 0x161f199b0>"
      ]
     },
     "metadata": {},
     "output_type": "display_data"
    }
   ],
   "source": [
    "datapath = 'data/mnist.pkl.npy'\n",
    "modelpath = 'model/mlp.pkl.npy'\n",
    "\n",
    "eta = 0.01\n",
    "batch_size = 500\n",
    "epoch = 10\n",
    "lmbda = 0\n",
    "\n",
    "mlp = NN(datapath=datapath, modelpath=modelpath, size_layers=[784, 10, 10, 10])\n",
    "\n",
    "initialize_zero_weights(mlp)\n",
    "losses, accuracies = train(mlp, eta, epoch=epoch, batch_size=batch_size, lmbda=lmbda)\n",
    "\n",
    "draw_plots(mlp, epoch, accuracies, losses)"
   ]
  },
  {
   "cell_type": "markdown",
   "metadata": {},
   "source": [
    "Initializing normally distributed weights"
   ]
  },
  {
   "cell_type": "code",
   "execution_count": null,
   "metadata": {
    "scrolled": false
   },
   "outputs": [],
   "source": [
    "datapath = 'data/mnist.pkl.npy'\n",
    "modelpath = 'model/mlp.pkl.npy'\n",
    "\n",
    "eta = 0.005\n",
    "batch_size = 500\n",
    "epoch = 10\n",
    "lmbda = 0\n",
    "\n",
    "mlp = NN(datapath=datapath, modelpath=modelpath, size_layers=[784, 10, 10, 10])\n",
    "\n",
    "initialize_normal_weights(mlp)\n",
    "losses, accuracies = train(mlp, eta, epoch=epoch, batch_size=batch_size, lmbda=lmbda)\n",
    "\n",
    "draw_plots(mlp, epoch, accuracies, losses)"
   ]
  },
  {
   "cell_type": "markdown",
   "metadata": {},
   "source": [
    "Initializing with glorot distributed weights"
   ]
  },
  {
   "cell_type": "code",
   "execution_count": null,
   "metadata": {},
   "outputs": [],
   "source": [
    "datapath = 'data/mnist.pkl.npy'\n",
    "modelpath = 'model/mlp.pkl.npy'\n",
    "\n",
    "eta = 0.5\n",
    "batch_size = 500\n",
    "epoch = 10\n",
    "lmbda = 0\n",
    "\n",
    "mlp = NN(datapath=datapath, modelpath=modelpath, size_layers=[784, 16, 16, 10])\n",
    "\n",
    "initialize_glorot_weights(mlp)\n",
    "losses, accuracies = train(mlp, eta, epoch=epoch, batch_size=batch_size, lmbda=lmbda)\n",
    "\n",
    "draw_plots(mlp, epoch, accuracies, losses)"
   ]
  },
  {
   "cell_type": "markdown",
   "metadata": {},
   "source": [
    "## Hyperparameter Search"
   ]
  },
  {
   "cell_type": "code",
   "execution_count": null,
   "metadata": {},
   "outputs": [],
   "source": [
    "datapath = 'data/mnist.pkl.npy'\n",
    "modelpath = 'model/mlp.pkl.npy'\n",
    "\n",
    "eta = 0.5\n",
    "batch_size = 500\n",
    "epoch = 10\n",
    "lmbda = 0.00200\n",
    "\n",
    "mlp = NN(datapath=datapath, modelpath=modelpath, size_layers=[784, 16, 16, 10])\n",
    "\n",
    "initialize_glorot_weights(mlp)\n",
    "losses, accuracies = train(mlp, eta, epoch=epoch, batch_size=batch_size, lmbda=lmbda)\n",
    "\n",
    "draw_plots(mlp, epoch, accuracies, losses)"
   ]
  },
  {
   "cell_type": "markdown",
   "metadata": {},
   "source": [
    "## Validate Gradients using Finite Difference"
   ]
  },
  {
   "cell_type": "code",
   "execution_count": 3299,
   "metadata": {},
   "outputs": [
    {
     "name": "stdout",
     "output_type": "stream",
     "text": [
      "[(0.043478260869565216, 3, 2, 23, 0.0), (0.025, 0, 4, 40, 0.0), (0.043478260869565216, 3, 2, 23, 0.0), (0.043478260869565216, 3, 2, 23, 0.0), (0.038461538461538464, 4, 3, 26, 0.0)]\n"
     ]
    }
   ],
   "source": [
    "i = np.random.randint(0, 5, 5)\n",
    "k = np.random.randint(1, 5, 5)\n",
    "\n",
    "N = [k*10^i for i, k in zip(i, k)]\n",
    "epsilons = [1/n for n in N]\n",
    "\n",
    "mlp = NN(datapath=datapath, modelpath=modelpath, size_layers=[784, 16, 16, 10])\n",
    "\n",
    "p = min(10, 16)\n",
    "\n",
    "train_set, valid_set, test_set = mlp.data\n",
    "\n",
    "X, Y = train_set\n",
    "\n",
    "x = X[0]\n",
    "y = Y[0]\n",
    "\n",
    "results = []\n",
    "for e, i, N, k in zip(epsilons, i, N, k):\n",
    "    initialize_glorot_weights(mlp)\n",
    "    mlp.theta['w'][1][:,p:] = 0\n",
    "    old_w = mlp.theta['w'][1][:,i]\n",
    "    \n",
    "    mlp.theta['w'][1][:,i] = old_w + e\n",
    "    Y_h = forward(mlp, x)\n",
    "    l_los = loss(mlp, Y_h, y)\n",
    "    \n",
    "    mlp.theta['w'][1][:,i] = old_w - e\n",
    "    Y_h = forward(mlp, x)\n",
    "    r_los = loss(mlp, Y_h, y)\n",
    "    \n",
    "    delta_N_i = (l_los - r_los)/(2*e)\n",
    "    results.append((e, i, k, N, delta_N_i))\n",
    "    \n",
    "print(results)"
   ]
  },
  {
   "cell_type": "code",
   "execution_count": 3300,
   "metadata": {},
   "outputs": [
    {
     "ename": "ValueError",
     "evalue": "shapes (16,1) and (784,) not aligned: 1 (dim 1) != 784 (dim 0)",
     "output_type": "error",
     "traceback": [
      "\u001b[0;31m---------------------------------------------------------------------------\u001b[0m",
      "\u001b[0;31mValueError\u001b[0m                                Traceback (most recent call last)",
      "\u001b[0;32m<ipython-input-3300-a2a69dd57f47>\u001b[0m in \u001b[0;36m<module>\u001b[0;34m\u001b[0m\n\u001b[1;32m     28\u001b[0m \u001b[0;34m\u001b[0m\u001b[0m\n\u001b[1;32m     29\u001b[0m         \u001b[0mforward\u001b[0m\u001b[0;34m(\u001b[0m\u001b[0mmlp\u001b[0m\u001b[0;34m,\u001b[0m \u001b[0mx\u001b[0m\u001b[0;34m)\u001b[0m\u001b[0;34m\u001b[0m\u001b[0;34m\u001b[0m\u001b[0m\n\u001b[0;32m---> 30\u001b[0;31m         \u001b[0mbackward\u001b[0m\u001b[0;34m(\u001b[0m\u001b[0mmlp\u001b[0m\u001b[0;34m,\u001b[0m \u001b[0mnp\u001b[0m\u001b[0;34m.\u001b[0m\u001b[0marray\u001b[0m\u001b[0;34m(\u001b[0m\u001b[0;34m[\u001b[0m\u001b[0my\u001b[0m\u001b[0;34m]\u001b[0m\u001b[0;34m)\u001b[0m\u001b[0;34m)\u001b[0m\u001b[0;34m\u001b[0m\u001b[0;34m\u001b[0m\u001b[0m\n\u001b[0m\u001b[1;32m     31\u001b[0m         \u001b[0mreal_grad\u001b[0m \u001b[0;34m=\u001b[0m \u001b[0mmlp\u001b[0m\u001b[0;34m.\u001b[0m\u001b[0mgrads\u001b[0m\u001b[0;34m[\u001b[0m\u001b[0;34m'w'\u001b[0m\u001b[0;34m]\u001b[0m\u001b[0;34m[\u001b[0m\u001b[0;36m1\u001b[0m\u001b[0;34m]\u001b[0m\u001b[0;34m\u001b[0m\u001b[0;34m\u001b[0m\u001b[0m\n\u001b[1;32m     32\u001b[0m \u001b[0;34m\u001b[0m\u001b[0m\n",
      "\u001b[0;32m<ipython-input-3291-9d32b6c6d966>\u001b[0m in \u001b[0;36mbackward\u001b[0;34m(self, y)\u001b[0m\n\u001b[1;32m     24\u001b[0m \u001b[0;34m\u001b[0m\u001b[0m\n\u001b[1;32m     25\u001b[0m         \u001b[0mgrads\u001b[0m\u001b[0;34m[\u001b[0m\u001b[0;34m'b'\u001b[0m\u001b[0;34m]\u001b[0m\u001b[0;34m[\u001b[0m\u001b[0;34m-\u001b[0m\u001b[0ml\u001b[0m\u001b[0;34m]\u001b[0m \u001b[0;34m=\u001b[0m \u001b[0mdelta\u001b[0m\u001b[0;34m\u001b[0m\u001b[0;34m\u001b[0m\u001b[0m\n\u001b[0;32m---> 26\u001b[0;31m         \u001b[0mgrads\u001b[0m\u001b[0;34m[\u001b[0m\u001b[0;34m'w'\u001b[0m\u001b[0;34m]\u001b[0m\u001b[0;34m[\u001b[0m\u001b[0;34m-\u001b[0m\u001b[0ml\u001b[0m\u001b[0;34m]\u001b[0m \u001b[0;34m=\u001b[0m \u001b[0mnp\u001b[0m\u001b[0;34m.\u001b[0m\u001b[0mdot\u001b[0m\u001b[0;34m(\u001b[0m\u001b[0mdelta\u001b[0m\u001b[0;34m.\u001b[0m\u001b[0mtranspose\u001b[0m\u001b[0;34m(\u001b[0m\u001b[0;34m)\u001b[0m\u001b[0;34m,\u001b[0m \u001b[0mself\u001b[0m\u001b[0;34m.\u001b[0m\u001b[0mcache\u001b[0m\u001b[0;34m[\u001b[0m\u001b[0;34m'activations'\u001b[0m\u001b[0;34m]\u001b[0m\u001b[0;34m[\u001b[0m\u001b[0;34m-\u001b[0m\u001b[0ml\u001b[0m\u001b[0;34m-\u001b[0m\u001b[0;36m1\u001b[0m\u001b[0;34m]\u001b[0m\u001b[0;34m)\u001b[0m\u001b[0;34m\u001b[0m\u001b[0;34m\u001b[0m\u001b[0m\n\u001b[0m\u001b[1;32m     27\u001b[0m \u001b[0;34m\u001b[0m\u001b[0m\n\u001b[1;32m     28\u001b[0m     \u001b[0;32mreturn\u001b[0m \u001b[0mgrads\u001b[0m\u001b[0;34m\u001b[0m\u001b[0;34m\u001b[0m\u001b[0m\n",
      "\u001b[0;31mValueError\u001b[0m: shapes (16,1) and (784,) not aligned: 1 (dim 1) != 784 (dim 0)"
     ]
    }
   ],
   "source": [
    "N = range(1, 50)\n",
    "i = range(1, p)\n",
    "\n",
    "max_diff = []\n",
    "\n",
    "initialize_glorot_weights(mlp)\n",
    "\n",
    "for n in N:\n",
    "    e = 1/n\n",
    "    grad_diff = []\n",
    "    \n",
    "    for _i in i:\n",
    "        mlp.theta['w'][1][:,p:] = 0\n",
    "        old_w = mlp.theta['w'][1][:,_i]\n",
    "\n",
    "        mlp.theta['w'][1][:,_i] = old_w + e\n",
    "        Y_h = forward(mlp, x)\n",
    "        l_los = loss(mlp, Y_h, y)\n",
    "\n",
    "        mlp.theta['w'][1][:,_i] = old_w - e\n",
    "        Y_h = forward(mlp, x)\n",
    "        r_los = loss(mlp, Y_h, y)\n",
    "\n",
    "        delta_N_i = (l_los - r_los)/(2*e)\n",
    "        \n",
    "        mlp.theta['w'][1][:,_i] = old_w\n",
    "        mlp.theta['w'][1][:,p:] = 0\n",
    "        \n",
    "        forward(mlp, x)\n",
    "        backward(mlp, np.array([y]))\n",
    "        real_grad = mlp.grads['w'][1]\n",
    "        \n",
    "        grad_diff.append(abs(delta_N_i - real_grad))\n",
    "    \n",
    "    max_diff.append(np.max(grad_diff))\n",
    "    \n"
   ]
  },
  {
   "cell_type": "code",
   "execution_count": null,
   "metadata": {},
   "outputs": [],
   "source": [
    "plt.plot(N, max_diff)\n",
    "plt.xlabel('N') \n",
    "plt.title('abs(true grad - finite diff)')\n",
    "plt.show()"
   ]
  },
  {
   "cell_type": "code",
   "execution_count": null,
   "metadata": {},
   "outputs": [],
   "source": []
  }
 ],
 "metadata": {
  "kernelspec": {
   "display_name": "Python 3",
   "language": "python",
   "name": "python3"
  },
  "language_info": {
   "codemirror_mode": {
    "name": "ipython",
    "version": 3
   },
   "file_extension": ".py",
   "mimetype": "text/x-python",
   "name": "python",
   "nbconvert_exporter": "python",
   "pygments_lexer": "ipython3",
   "version": "3.6.8"
  }
 },
 "nbformat": 4,
 "nbformat_minor": 2
}
