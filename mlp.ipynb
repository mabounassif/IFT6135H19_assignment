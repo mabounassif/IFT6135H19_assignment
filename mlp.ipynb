{
 "cells": [
  {
   "cell_type": "code",
   "execution_count": 784,
   "metadata": {},
   "outputs": [],
   "source": [
    "%matplotlib inline\n",
    "\n",
    "import numpy as np\n",
    "import matplotlib.pyplot as plt\n",
    "\n",
    "class NN(object):\n",
    "    def __init__(self, size_layers=[784, 16, 16, 10], datapath=None, modelpath=None):\n",
    "        self.data = np.load(datapath)\n",
    "        self.size_layers = size_layers\n",
    "        \n",
    "        # The cache would be used to store forward feed activations and preactivations values \n",
    "        self.cache = {\n",
    "            'activations': [],\n",
    "            'preactivations': []\n",
    "        }\n",
    "        \n",
    "        # Data structure to hold the params of the model\n",
    "        self.theta = {\n",
    "            'b': [],\n",
    "            'w': []\n",
    "        }\n",
    "        \n",
    "        # Data structure to hold the gradients calculated during backprop\n",
    "        self.grads = {\n",
    "            'b': [],\n",
    "            'w': []\n",
    "        }"
   ]
  },
  {
   "cell_type": "code",
   "execution_count": 785,
   "metadata": {},
   "outputs": [],
   "source": [
    "def initialize_zero_weights(self):\n",
    "    size_next_layers = self.size_layers.copy()\n",
    "    size_next_layers.pop(0)\n",
    "    \n",
    "    for size_layer, size_next_layer in zip(self.size_layers, size_next_layers):\n",
    "        self.theta['w'].append(np.zeros((size_next_layer, size_layer)))\n",
    "        self.theta['b'].append(np.zeros((1, size_next_layer)))\n",
    "        \n",
    "        self.grads['w'].append(np.zeros((size_next_layer, size_layer)))\n",
    "        self.grads['b'].append(np.zeros((1, size_next_layer)))"
   ]
  },
  {
   "cell_type": "code",
   "execution_count": 786,
   "metadata": {},
   "outputs": [],
   "source": [
    "def initialize_normal_weights(self):\n",
    "    size_next_layers = self.size_layers.copy()\n",
    "    size_next_layers.pop(0)\n",
    "\n",
    "    for size_layer, size_next_layer in zip(self.size_layers, size_next_layers):\n",
    "        self.theta['w'].append(np.random.normal(size=(size_next_layer, size_layer)))\n",
    "        self.theta['b'].append(np.zeros((1, size_next_layer)))\n",
    "\n",
    "        self.grads['w'].append(np.zeros((size_next_layer, size_layer)))\n",
    "        self.grads['b'].append(np.zeros((1, size_next_layer)))"
   ]
  },
  {
   "cell_type": "code",
   "execution_count": 787,
   "metadata": {},
   "outputs": [],
   "source": [
    "def initialize_glorot_weights(self):\n",
    "    size_next_layers = self.size_layers.copy()\n",
    "    size_next_layers.pop(0)\n",
    "\n",
    "    for size_layer, size_next_layer in zip(self.size_layers, size_next_layers):\n",
    "        d_l = np.sqrt(6/(size_layer+size_next_layer))\n",
    "        m_d_l = -1*d_l\n",
    "        \n",
    "        self.theta['w'].append(np.random.uniform(m_d_l, d_l, size=(size_next_layer, size_layer)))\n",
    "        self.theta['b'].append(np.zeros((1, size_next_layer)))\n",
    "\n",
    "        self.grads['w'].append(np.zeros((size_next_layer, size_layer)))\n",
    "        self.grads['b'].append(np.zeros((1, size_next_layer)))"
   ]
  },
  {
   "cell_type": "code",
   "execution_count": 788,
   "metadata": {},
   "outputs": [],
   "source": [
    "def forward(self, X):\n",
    "    '''\n",
    "    Forward propagation\n",
    "    params:\n",
    "        X: N by k matrix\n",
    "        where\n",
    "            N: number of samples\n",
    "            k: dimension of sample\n",
    "    returns: output is a N by o matrix where o is the output dimension specified\n",
    "    in mlp initialization\n",
    "    '''\n",
    "    n_layers = len(self.size_layers)\n",
    "    input_layer = X\n",
    "    \n",
    "    # Adding input in activations needed for gradient descent\n",
    "    self.cache['activations'].append(X)\n",
    "    \n",
    "    # Index stops before the last layer as we'd need to treat it differently\n",
    "    for layer_idx in range(n_layers - 2):\n",
    "        \n",
    "        # Multiply the input by the weights\n",
    "        pre_act_layer = np.matmul(input_layer,  self.theta['w'][layer_idx].transpose()) + self.theta['b'][layer_idx]\n",
    "        # Apply activation function\n",
    "        output_layer = activation(self, pre_act_layer)\n",
    "        \n",
    "        self.cache['preactivations'].append(pre_act_layer)\n",
    "        self.cache['activations'].append(output_layer)\n",
    "        \n",
    "        input_layer = output_layer\n",
    "    \n",
    "    # Final layer with softmax activation\n",
    "    # Multiply the input by the weights\n",
    "    pre_act_layer = np.matmul(input_layer, self.theta['w'][-1].transpose()) + self.theta['b'][-1]\n",
    "    # Apply activation function\n",
    "    output_layer = softmax(self, pre_act_layer)\n",
    "\n",
    "    self.cache['preactivations'].append(pre_act_layer)\n",
    "    self.cache['activations'].append(output_layer)\n",
    "    \n",
    "    return output_layer"
   ]
  },
  {
   "cell_type": "code",
   "execution_count": 789,
   "metadata": {},
   "outputs": [],
   "source": [
    "def activation(self, input):\n",
    "    zero_aux = np.zeros(input.shape)\n",
    "    meta_z = np.stack((input , zero_aux), axis = -1)\n",
    "    \n",
    "    return np.max(meta_z, axis = -1)"
   ]
  },
  {
   "cell_type": "code",
   "execution_count": 790,
   "metadata": {},
   "outputs": [],
   "source": [
    "def activation_prime(self, input):\n",
    "    result = input.copy()\n",
    "    result[result<=0] = 0\n",
    "    result[result>0] = 1\n",
    "\n",
    "    return result"
   ]
  },
  {
   "cell_type": "code",
   "execution_count": 791,
   "metadata": {},
   "outputs": [],
   "source": [
    "def softmax(self, input):\n",
    "    '''\n",
    "    params:\n",
    "        input: N by k matrix\n",
    "        where\n",
    "            N: number of samples\n",
    "            k: dimension of each sample\n",
    "    returns: a N by k matrix representing the probability distribution \n",
    "        of each sample\n",
    "    '''\n",
    "    e_x = np.exp(input - np.max(input, axis=1, keepdims=1))\n",
    "    return e_x / e_x.sum(axis=1, keepdims=1)"
   ]
  },
  {
   "cell_type": "code",
   "execution_count": 875,
   "metadata": {},
   "outputs": [],
   "source": [
    "def loss(self, predictions, targets):\n",
    "    '''\n",
    "    Takes a batch of predictions and gets the cross entropy\n",
    "    params:\n",
    "        predictions: N by k matrix\n",
    "        where\n",
    "            N: number of samples\n",
    "            k: dimension of each sample\n",
    "        targets: N by 1 matrix containing label of each one\n",
    "        where \n",
    "            N: number of samples\n",
    "    returns: a scalar which is the loss value            \n",
    "    '''\n",
    "    N = predictions.shape[0] # batch size\n",
    "    k = predictions.shape[1] # numb of classes\n",
    "    \n",
    "    return np.mean(-1*np.sum(np.multiply(np.eye(k)[targets][0], np.log10(predictions))))"
   ]
  },
  {
   "cell_type": "code",
   "execution_count": 889,
   "metadata": {},
   "outputs": [],
   "source": [
    "def loss_prime(self, predictions, targets):\n",
    "    k = predictions.shape[1] # numb of classes\n",
    "    \n",
    "    print(predictions)\n",
    "    print(np.eye(k)[targets])\n",
    "\n",
    "    return np.sum(np.multiply(np.eye(k)[targets], np.eye(k)[targets] - predictions), axis=0, keepdims=1)"
   ]
  },
  {
   "cell_type": "code",
   "execution_count": 890,
   "metadata": {},
   "outputs": [],
   "source": [
    "def backward(self, Y):\n",
    "    '''\n",
    "    Backward propagation\n",
    "    params:\n",
    "        Y: N by 1 matrix\n",
    "        where\n",
    "            N: number of samples\n",
    "            column: is the label of the samples\n",
    "    '''\n",
    "    n_layers = len(self.size_layers)\n",
    "    \n",
    "    delta = loss_prime(self, self.cache['activations'][-1], Y)\n",
    "    \n",
    "    print(delta)\n",
    "    \n",
    "    self.grads['b'][-1] = delta\n",
    "    self.grads['w'][-1] = np.dot(delta.transpose(), np.mean(self.cache['activations'][-2], axis=0, keepdims=1))\n",
    "    \n",
    "    for l in range(2, n_layers):\n",
    "        z = self.cache['preactivations'][-l]\n",
    "        o = activation_prime(self, z)\n",
    "        \n",
    "        delta = np.multiply(np.dot(delta, self.theta['w'][-l+1]), np.mean(o, axis=0, keepdims=1))\n",
    "        \n",
    "        self.grads['b'][-l] = delta\n",
    "        self.grads['w'][-l] = np.dot(delta.transpose(), np.mean(self.cache['activations'][-l-1], axis=0, keepdims=1))"
   ]
  },
  {
   "cell_type": "code",
   "execution_count": 891,
   "metadata": {},
   "outputs": [
    {
     "name": "stdout",
     "output_type": "stream",
     "text": [
      "[[0.07565622 0.92434378]]\n",
      "[[[0. 1.]]]\n",
      "[[[0.         0.07565622]]]\n"
     ]
    },
    {
     "data": {
      "text/plain": [
       "{'b': [array([[[-0.02449186,  0.04355335]]]),\n",
       "  array([[[ 0.04921762, -0.        ]]]),\n",
       "  array([[[0.        , 0.07565622]]])],\n",
       " 'w': [array([[[-0.02449186, -0.07347559, -0.14695118, -0.19593491]],\n",
       "  \n",
       "         [[ 0.04355335,  0.13066004,  0.26132009,  0.34842678]]]),\n",
       "  array([[[0.0636084 , 0.25491024]],\n",
       "  \n",
       "         [[0.        , 0.        ]]]),\n",
       "  array([[[0.        , 0.        ]],\n",
       "  \n",
       "         [[0.29809025, 0.        ]]])]}"
      ]
     },
     "execution_count": 891,
     "metadata": {},
     "output_type": "execute_result"
    }
   ],
   "source": [
    "backward(mlp_experience, y)\n",
    "mlp_experience.grads"
   ]
  },
  {
   "cell_type": "code",
   "execution_count": 795,
   "metadata": {},
   "outputs": [],
   "source": [
    "def update(self, eta, lmbda):\n",
    "    n_layers = len(self.size_layers)\n",
    "    \n",
    "    for layer_idx in range(n_layers - 1):\n",
    "        grad_w = self.grads['w'][layer_idx]\n",
    "        grad_b = self.grads['b'][layer_idx]\n",
    "        w = self.theta['w'][layer_idx]\n",
    "        b = self.theta['b'][layer_idx]\n",
    "        \n",
    "        self.theta['w'][layer_idx] = w - eta*grad_w - lmbda*w\n",
    "        self.theta['b'][layer_idx] = b - eta*grad_b - lmbda*b"
   ]
  },
  {
   "cell_type": "code",
   "execution_count": 796,
   "metadata": {},
   "outputs": [],
   "source": [
    "def create_mini_batches(self, dataset, batch_size):\n",
    "        X, Y = dataset\n",
    "        \n",
    "        \n",
    "        mini_batches = [\n",
    "            (X[k:k+batch_size], Y[k:k+batch_size]) for k in range(0, len(X), batch_size)\n",
    "        ]\n",
    "        \n",
    "        return mini_batches"
   ]
  },
  {
   "cell_type": "code",
   "execution_count": 797,
   "metadata": {},
   "outputs": [],
   "source": [
    "def calculate_accuracy(self, Y_h, Y):\n",
    "    return 100*np.sum(np.argmax(Y_h, axis=1) == Y)/ Y_h.shape[0]"
   ]
  },
  {
   "cell_type": "code",
   "execution_count": 798,
   "metadata": {},
   "outputs": [],
   "source": [
    "last_batch = []\n",
    "def train(self, eta, epoch=20, batch_size=1000, lmbda=0.5):\n",
    "    losses = {\n",
    "        'train': [],\n",
    "        'validation': []\n",
    "    }\n",
    "    \n",
    "    accuracies = {\n",
    "        'train': [],\n",
    "        'validation': []\n",
    "    }\n",
    "    \n",
    "    for i in range(epoch):\n",
    "        train_set, valid_set, test_set = self.data\n",
    "        \n",
    "        train_mini_batches = create_mini_batches(self, train_set, batch_size=batch_size)\n",
    "        validate_mini_batches = create_mini_batches(self, valid_set, batch_size=batch_size)\n",
    "        \n",
    "        tmp_losses = {\n",
    "            'train': [],\n",
    "            'validation': []\n",
    "        }\n",
    "        \n",
    "        tmp_accuracies = {\n",
    "            'train': [],\n",
    "            'validation': []\n",
    "        }\n",
    "        \n",
    "        for X, Y in train_mini_batches:\n",
    "            Y_h = forward(self, X)\n",
    "            backward(self, Y)\n",
    "            update(self, eta, lmbda)\n",
    "            \n",
    "            los = loss(self, Y_h, Y)\n",
    "            acc = calculate_accuracy(self, Y_h, Y)\n",
    "            \n",
    "            tmp_losses['train'].append(los)\n",
    "            tmp_accuracies['train'].append(acc)\n",
    "            \n",
    "        for X, Y in validate_mini_batches:\n",
    "            Y_h = forward(self, X)\n",
    "            \n",
    "            los = loss(self, Y_h, Y)\n",
    "            acc = calculate_accuracy(self, Y_h, Y)\n",
    "            \n",
    "            last_batch = [(X, Y, Y_h)]\n",
    "            \n",
    "            tmp_losses['validation'].append(los)\n",
    "            tmp_accuracies['validation'].append(acc)\n",
    "            \n",
    "        losses['validation'].append(np.mean(tmp_losses['validation']))\n",
    "        losses['train'].append(np.mean(tmp_losses['train']))\n",
    "        \n",
    "        accuracies['validation'].append(np.mean(tmp_accuracies['validation']))\n",
    "        accuracies['train'].append(np.mean(tmp_accuracies['train']))\n",
    "        \n",
    "    return losses, accuracies"
   ]
  },
  {
   "cell_type": "code",
   "execution_count": 799,
   "metadata": {},
   "outputs": [],
   "source": [
    "def test(self):\n",
    "    train_set, valid_set, test_set = self.data\n",
    "\n",
    "    X, Y = test_set\n",
    "    Y_h = forward(self, X)\n",
    "    \n",
    "    return np.sum(np.argmax(Y_h, axis=1) != Y)/ X.shape[0]"
   ]
  },
  {
   "cell_type": "code",
   "execution_count": 800,
   "metadata": {},
   "outputs": [],
   "source": [
    "def draw_plots(self, epoch, accuracies, losses):\n",
    "    x = range(epoch)\n",
    "    fig, ax1 = plt.subplots()\n",
    "\n",
    "    ax2 = ax1.twinx()\n",
    "    ax1.plot(x, accuracies['validation'], 'g-')\n",
    "    ax2.plot(x, accuracies['train'], 'b-')\n",
    "\n",
    "    ax1.set_xlabel('epochs')\n",
    "    ax1.set_ylabel('validation accuracies', color='g')\n",
    "    ax2.set_ylabel('train accuracies', color='b')\n",
    "    plt.title('Accuracies')\n",
    "\n",
    "    fig, ax1 = plt.subplots()\n",
    "\n",
    "    ax2 = ax1.twinx()\n",
    "    ax1.plot(x, losses['validation'], 'g-')\n",
    "    ax2.plot(x, losses['train'], 'b-')\n",
    "\n",
    "    ax1.set_xlabel('epochs')\n",
    "    ax1.set_ylabel('validation loss', color='g')\n",
    "    ax2.set_ylabel('train loss', color='b')\n",
    "    plt.title('Loss functions')\n",
    "\n",
    "    plt.show()"
   ]
  },
  {
   "cell_type": "markdown",
   "metadata": {},
   "source": [
    "## Initialization\n",
    "\n",
    "Initializing weights to zero, with 0.5 as learning rate and no minibatch"
   ]
  },
  {
   "cell_type": "code",
   "execution_count": 801,
   "metadata": {},
   "outputs": [
    {
     "data": {
      "image/png": "[encoded data removed]",
      "text/plain": [
       "<matplotlib.figure.Figure at 0x113915eb8>"
      ]
     },
     "metadata": {},
     "output_type": "display_data"
    },
    {
     "data": {
      "image/png": "[encoded data removed]",
      "text/plain": [
       "<matplotlib.figure.Figure at 0x113cdbf98>"
      ]
     },
     "metadata": {},
     "output_type": "display_data"
    }
   ],
   "source": [
    "datapath = 'data/mnist.pkl.npy'\n",
    "modelpath = 'model/mlp.pkl.npy'\n",
    "\n",
    "eta = 0.03\n",
    "batch_size = 500\n",
    "epoch = 10\n",
    "lmbda = 0.0050\n",
    "\n",
    "mlp = NN(datapath=datapath, modelpath=modelpath, size_layers=[784, 16, 16, 10])\n",
    "\n",
    "initialize_zero_weights(mlp)\n",
    "losses, accuracies = train(mlp, eta, epoch=epoch, batch_size=batch_size, lmbda=lmbda)\n",
    "\n",
    "draw_plots(mlp, epoch, accuracies, losses)"
   ]
  },
  {
   "cell_type": "markdown",
   "metadata": {},
   "source": [
    "Initializing normally distributed weights"
   ]
  },
  {
   "cell_type": "code",
   "execution_count": 802,
   "metadata": {
    "scrolled": false
   },
   "outputs": [
    {
     "name": "stderr",
     "output_type": "stream",
     "text": [
      "/Users/mabounassif/miniconda3/lib/python3.6/site-packages/ipykernel_launcher.py:17: RuntimeWarning: divide by zero encountered in log10\n",
      "/Users/mabounassif/miniconda3/lib/python3.6/site-packages/ipykernel_launcher.py:17: RuntimeWarning: invalid value encountered in multiply\n",
      "/Users/mabounassif/miniconda3/lib/python3.6/site-packages/ipykernel_launcher.py:11: RuntimeWarning: invalid value encountered in subtract\n",
      "  # This is added back by InteractiveShellApp.init_path()\n",
      "/Users/mabounassif/miniconda3/lib/python3.6/site-packages/ipykernel_launcher.py:3: RuntimeWarning: invalid value encountered in less_equal\n",
      "  This is separate from the ipykernel package so we can avoid doing imports until\n",
      "/Users/mabounassif/miniconda3/lib/python3.6/site-packages/ipykernel_launcher.py:4: RuntimeWarning: invalid value encountered in greater\n",
      "  after removing the cwd from sys.path.\n"
     ]
    },
    {
     "data": {
      "image/png": "[encoded data removed]",
      "text/plain": [
       "<matplotlib.figure.Figure at 0x128675b00>"
      ]
     },
     "metadata": {},
     "output_type": "display_data"
    },
    {
     "data": {
      "image/png": "[encoded data removed]",
      "text/plain": [
       "<matplotlib.figure.Figure at 0x113b4f8d0>"
      ]
     },
     "metadata": {},
     "output_type": "display_data"
    }
   ],
   "source": [
    "datapath = 'data/mnist.pkl.npy'\n",
    "modelpath = 'model/mlp.pkl.npy'\n",
    "\n",
    "eta = 0.0005\n",
    "batch_size = 500\n",
    "epoch = 10\n",
    "lmbda = 0.005\n",
    "\n",
    "mlp = NN(datapath=datapath, modelpath=modelpath, size_layers=[784, 16, 16, 10])\n",
    "\n",
    "initialize_normal_weights(mlp)\n",
    "losses, accuracies = train(mlp, eta, epoch=epoch, batch_size=batch_size, lmbda=lmbda)\n",
    "\n",
    "draw_plots(mlp, epoch, accuracies, losses)"
   ]
  },
  {
   "cell_type": "markdown",
   "metadata": {},
   "source": [
    "Initializing with glorot distributed weights"
   ]
  },
  {
   "cell_type": "code",
   "execution_count": 803,
   "metadata": {},
   "outputs": [
    {
     "name": "stderr",
     "output_type": "stream",
     "text": [
      "/Users/mabounassif/miniconda3/lib/python3.6/site-packages/ipykernel_launcher.py:17: RuntimeWarning: divide by zero encountered in log10\n",
      "/Users/mabounassif/miniconda3/lib/python3.6/site-packages/ipykernel_launcher.py:17: RuntimeWarning: invalid value encountered in multiply\n",
      "/Users/mabounassif/miniconda3/lib/python3.6/site-packages/ipykernel_launcher.py:11: RuntimeWarning: invalid value encountered in subtract\n",
      "  # This is added back by InteractiveShellApp.init_path()\n",
      "/Users/mabounassif/miniconda3/lib/python3.6/site-packages/ipykernel_launcher.py:3: RuntimeWarning: invalid value encountered in less_equal\n",
      "  This is separate from the ipykernel package so we can avoid doing imports until\n",
      "/Users/mabounassif/miniconda3/lib/python3.6/site-packages/ipykernel_launcher.py:4: RuntimeWarning: invalid value encountered in greater\n",
      "  after removing the cwd from sys.path.\n"
     ]
    },
    {
     "data": {
      "image/png": "[encoded data removed]",
      "text/plain": [
       "<matplotlib.figure.Figure at 0x113698860>"
      ]
     },
     "metadata": {},
     "output_type": "display_data"
    },
    {
     "data": {
      "image/png": "[encoded data removed]",
      "text/plain": [
       "<matplotlib.figure.Figure at 0x1287527b8>"
      ]
     },
     "metadata": {},
     "output_type": "display_data"
    }
   ],
   "source": [
    "datapath = 'data/mnist.pkl.npy'\n",
    "modelpath = 'model/mlp.pkl.npy'\n",
    "\n",
    "eta = 0.03\n",
    "batch_size = 500\n",
    "epoch = 10\n",
    "lmbda = 0.00200\n",
    "\n",
    "mlp = NN(datapath=datapath, modelpath=modelpath, size_layers=[784, 16, 16, 10])\n",
    "\n",
    "initialize_glorot_weights(mlp)\n",
    "losses, accuracies = train(mlp, eta, epoch=epoch, batch_size=batch_size, lmbda=lmbda)\n",
    "\n",
    "draw_plots(mlp, epoch, accuracies, losses)"
   ]
  },
  {
   "cell_type": "markdown",
   "metadata": {},
   "source": [
    "## Hyperparameter Search"
   ]
  },
  {
   "cell_type": "code",
   "execution_count": 804,
   "metadata": {},
   "outputs": [
    {
     "name": "stderr",
     "output_type": "stream",
     "text": [
      "/Users/mabounassif/miniconda3/lib/python3.6/site-packages/ipykernel_launcher.py:17: RuntimeWarning: divide by zero encountered in log10\n",
      "/Users/mabounassif/miniconda3/lib/python3.6/site-packages/ipykernel_launcher.py:17: RuntimeWarning: invalid value encountered in multiply\n",
      "/Users/mabounassif/miniconda3/lib/python3.6/site-packages/ipykernel_launcher.py:11: RuntimeWarning: invalid value encountered in subtract\n",
      "  # This is added back by InteractiveShellApp.init_path()\n",
      "/Users/mabounassif/miniconda3/lib/python3.6/site-packages/ipykernel_launcher.py:3: RuntimeWarning: invalid value encountered in less_equal\n",
      "  This is separate from the ipykernel package so we can avoid doing imports until\n",
      "/Users/mabounassif/miniconda3/lib/python3.6/site-packages/ipykernel_launcher.py:4: RuntimeWarning: invalid value encountered in greater\n",
      "  after removing the cwd from sys.path.\n"
     ]
    },
    {
     "data": {
      "image/png": "[encoded data removed]",
      "text/plain": [
       "<matplotlib.figure.Figure at 0x117d3ac18>"
      ]
     },
     "metadata": {},
     "output_type": "display_data"
    },
    {
     "data": {
      "image/png": "[encoded data removed]",
      "text/plain": [
       "<matplotlib.figure.Figure at 0x113cdba20>"
      ]
     },
     "metadata": {},
     "output_type": "display_data"
    }
   ],
   "source": [
    "datapath = 'data/mnist.pkl.npy'\n",
    "modelpath = 'model/mlp.pkl.npy'\n",
    "\n",
    "eta = 0.03\n",
    "batch_size = 500\n",
    "epoch = 10\n",
    "lmbda = 0.00200\n",
    "\n",
    "mlp = NN(datapath=datapath, modelpath=modelpath, size_layers=[784, 16, 16, 10])\n",
    "\n",
    "initialize_glorot_weights(mlp)\n",
    "losses, accuracies = train(mlp, eta, epoch=epoch, batch_size=batch_size, lmbda=lmbda)\n",
    "\n",
    "draw_plots(mlp, epoch, accuracies, losses)"
   ]
  },
  {
   "cell_type": "markdown",
   "metadata": {},
   "source": [
    "## Validate Gradients using Finite Difference"
   ]
  },
  {
   "cell_type": "code",
   "execution_count": 805,
   "metadata": {},
   "outputs": [
    {
     "name": "stdout",
     "output_type": "stream",
     "text": [
      "[(0.025, 0, 4, 40, array([[0.00541606]])), (0.1111111111111111, 3, 1, 9, array([[0.]])), (0.05, 0, 2, 20, array([[-0.00381815]])), (0.034482758620689655, 3, 3, 29, array([[0.]])), (0.025, 0, 4, 40, array([[0.0047212]]))]\n"
     ]
    }
   ],
   "source": [
    "i = np.random.randint(0, 5, 5)\n",
    "k = np.random.randint(1, 5, 5)\n",
    "\n",
    "N = [k*10^i for i, k in zip(i, k)]\n",
    "epsilons = [1/n for n in N]\n",
    "\n",
    "mlp = NN(datapath=datapath, modelpath=modelpath, size_layers=[784, 16, 16, 10])\n",
    "\n",
    "p = min(10, 16)\n",
    "\n",
    "train_set, valid_set, test_set = mlp.data\n",
    "\n",
    "X, Y = train_set\n",
    "\n",
    "x = X[0]\n",
    "y = Y[0]\n",
    "\n",
    "results = []\n",
    "for e, i, N, k in zip(epsilons, i, N, k):\n",
    "    initialize_glorot_weights(mlp)\n",
    "    mlp.theta['w'][1][:,p:] = 0\n",
    "    old_w = mlp.theta['w'][1][:,i]\n",
    "    \n",
    "    mlp.theta['w'][1][:,i] = old_w + e\n",
    "    Y_h = forward(mlp, x)\n",
    "    l_los = loss(mlp, Y_h, y)\n",
    "    \n",
    "    mlp.theta['w'][1][:,i] = old_w - e\n",
    "    Y_h = forward(mlp, x)\n",
    "    r_los = loss(mlp, Y_h, y)\n",
    "    \n",
    "    delta_N_i = (l_los - r_los)/(2*e)\n",
    "    results.append((e, i, k, N, delta_N_i))\n",
    "    \n",
    "print(results)"
   ]
  },
  {
   "cell_type": "code",
   "execution_count": 806,
   "metadata": {},
   "outputs": [],
   "source": [
    "N = range(1, 50)\n",
    "i = range(1, p)\n",
    "\n",
    "max_diff = []\n",
    "\n",
    "initialize_glorot_weights(mlp)\n",
    "\n",
    "for n in N:\n",
    "    e = 1/n\n",
    "    grad_diff = []\n",
    "    \n",
    "    for _i in i:\n",
    "        mlp.theta['w'][1][:,p:] = 0\n",
    "        old_w = mlp.theta['w'][1][:,_i]\n",
    "\n",
    "        mlp.theta['w'][1][:,_i] = old_w + e\n",
    "        Y_h = forward(mlp, x)\n",
    "        l_los = loss(mlp, Y_h, y)\n",
    "\n",
    "        mlp.theta['w'][1][:,_i] = old_w - e\n",
    "        Y_h = forward(mlp, x)\n",
    "        r_los = loss(mlp, Y_h, y)\n",
    "\n",
    "        delta_N_i = (l_los - r_los)/(2*e)\n",
    "        \n",
    "        mlp.theta['w'][1][:,_i] = old_w\n",
    "        mlp.theta['w'][1][:,p:] = 0\n",
    "        \n",
    "        forward(mlp, x)\n",
    "        backward(mlp, np.array([y]))\n",
    "        real_grad = mlp.grads['w'][1]\n",
    "        \n",
    "        grad_diff.append(abs(delta_N_i - real_grad))\n",
    "    \n",
    "    max_diff.append(np.max(grad_diff))\n",
    "    \n"
   ]
  },
  {
   "cell_type": "code",
   "execution_count": 808,
   "metadata": {},
   "outputs": [
    {
     "data": {
      "image/png": "[encoded data removed]",
      "text/plain": [
       "<matplotlib.figure.Figure at 0x1137344a8>"
      ]
     },
     "metadata": {},
     "output_type": "display_data"
    }
   ],
   "source": [
    "plt.plot(N, max_diff)\n",
    "plt.xlabel('N') \n",
    "plt.title('abs(true grad - finite diff)')\n",
    "plt.show()"
   ]
  },
  {
   "cell_type": "code",
   "execution_count": 896,
   "metadata": {},
   "outputs": [],
   "source": [
    "x = np.array([[1, 3, 6, 8]])\n",
    "y = np.array([[0]])\n",
    "\n",
    "mlp_experience = NN(datapath=datapath, modelpath=modelpath, size_layers=[4, 2, 2, 2])\n",
    "initialize_glorot_weights(mlp_experience)"
   ]
  },
  {
   "cell_type": "code",
   "execution_count": 897,
   "metadata": {},
   "outputs": [],
   "source": [
    "y_h = forward(mlp_experience, x)"
   ]
  },
  {
   "cell_type": "code",
   "execution_count": 898,
   "metadata": {},
   "outputs": [
    {
     "data": {
      "text/plain": [
       "{'b': [array([[0., 0.]]), array([[0., 0.]]), array([[0., 0.]])],\n",
       " 'w': [array([[ 0.92455897, -0.78133857, -0.16849218,  0.9421913 ],\n",
       "         [-0.95624602, -0.79917207, -0.90285984,  0.10708957]]),\n",
       "  array([[-0.68349271, -1.08356316],\n",
       "         [ 0.17455088,  0.85336877]]),\n",
       "  array([[ 1.19928973,  0.01703812],\n",
       "         [ 0.83518293, -0.36582023]])]}"
      ]
     },
     "execution_count": 898,
     "metadata": {},
     "output_type": "execute_result"
    }
   ],
   "source": [
    "mlp_experience.theta"
   ]
  },
  {
   "cell_type": "code",
   "execution_count": 899,
   "metadata": {},
   "outputs": [
    {
     "data": {
      "text/plain": [
       "{'activations': [array([[1, 3, 6, 8]]),\n",
       "  array([[5.10712054, 0.        ]]),\n",
       "  array([[0.        , 0.89145238]]),\n",
       "  array([[0.58450627, 0.41549373]])],\n",
       " 'preactivations': [array([[ 5.10712054, -7.91420467]]),\n",
       "  array([[-3.49067968,  0.89145238]]),\n",
       "  array([[ 0.01518867, -0.32611131]])]}"
      ]
     },
     "execution_count": 899,
     "metadata": {},
     "output_type": "execute_result"
    }
   ],
   "source": [
    "mlp_experience.cache"
   ]
  },
  {
   "cell_type": "code",
   "execution_count": 900,
   "metadata": {},
   "outputs": [
    {
     "name": "stdout",
     "output_type": "stream",
     "text": [
      "[[0.58450627 0.41549373]]\n",
      "[[[1. 0.]]]\n",
      "[[[0.41549373 0.        ]]]\n"
     ]
    },
    {
     "data": {
      "text/plain": [
       "{'b': [array([[[0.00123569, 0.        ]]]),\n",
       "  array([[[0.        , 0.00707923]]]),\n",
       "  array([[[0.41549373, 0.        ]]])],\n",
       " 'w': [array([[[0.00123569, 0.00370706, 0.00741412, 0.00988549]],\n",
       "  \n",
       "         [[0.        , 0.        , 0.        , 0.        ]]]),\n",
       "  array([[[0.       , 0.       ]],\n",
       "  \n",
       "         [[0.0361545, 0.       ]]]),\n",
       "  array([[[0.        , 0.37039287]],\n",
       "  \n",
       "         [[0.        , 0.        ]]])]}"
      ]
     },
     "execution_count": 900,
     "metadata": {},
     "output_type": "execute_result"
    }
   ],
   "source": [
    "backward(mlp_experience, y)\n",
    "mlp_experience.grads"
   ]
  },
  {
   "cell_type": "code",
   "execution_count": 901,
   "metadata": {},
   "outputs": [
    {
     "data": {
      "text/plain": [
       "0.2332108253969253"
      ]
     },
     "execution_count": 901,
     "metadata": {},
     "output_type": "execute_result"
    }
   ],
   "source": [
    "loss(mlp_experience, y_h, y)"
   ]
  },
  {
   "cell_type": "code",
   "execution_count": null,
   "metadata": {},
   "outputs": [],
   "source": []
  }
 ],
 "metadata": {
  "kernelspec": {
   "display_name": "Python 3",
   "language": "python",
   "name": "python3"
  },
  "language_info": {
   "codemirror_mode": {
    "name": "ipython",
    "version": 3
   },
   "file_extension": ".py",
   "mimetype": "text/x-python",
   "name": "python",
   "nbconvert_exporter": "python",
   "pygments_lexer": "ipython3",
   "version": "3.6.8"
  }
 },
 "nbformat": 4,
 "nbformat_minor": 2
}
